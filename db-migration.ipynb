{
 "cells": [
  {
   "cell_type": "code",
   "execution_count": 44,
   "id": "ecc85c7d-e6ef-4c68-a41e-4d89eaf4b867",
   "metadata": {
    "tags": []
   },
   "outputs": [],
   "source": [
    "import pymongo\n",
    "import random\n",
    "import string\n",
    "from datetime import datetime, timedelta"
   ]
  },
  {
   "cell_type": "code",
   "execution_count": 45,
   "id": "c80675a0-66a6-4806-8be2-3febfd200346",
   "metadata": {
    "tags": []
   },
   "outputs": [],
   "source": [
    "client = pymongo.MongoClient(\"mongodb://localhost:27017/\")\n",
    "homecare_db = client[\"homecare\"]\n",
    "eportal_db = client[\"eportal\"]\n",
    "s2travel_db = client[\"s2travel\"]"
   ]
  },
  {
   "cell_type": "code",
   "execution_count": 46,
   "id": "a9b84187-4e47-4891-acb4-83f1b5e540a9",
   "metadata": {
    "tags": []
   },
   "outputs": [],
   "source": [
    "homecare_users = homecare_db[\"users\"]\n",
    "eportal_users = eportal_db[\"users\"]\n",
    "s2travel_users = s2travel_db[\"users\"]"
   ]
  },
  {
   "cell_type": "code",
   "execution_count": 50,
   "id": "619a0a84-2a3a-45e4-912d-de259d8099b7",
   "metadata": {
    "tags": []
   },
   "outputs": [
    {
     "name": "stdout",
     "output_type": "stream",
     "text": [
      "done\n"
     ]
    }
   ],
   "source": [
    "def get_random_email():\n",
    "    validchars='abcdefghijklmnopqrstuvwxyz1234567890'\n",
    "    loginlen=random.randint(4,15)\n",
    "    login=''\n",
    "    for i in range(loginlen):\n",
    "        pos=random.randint(0,len(validchars)-1)\n",
    "        login=login+validchars[pos]\n",
    "    if login[0].isnumeric():\n",
    "        pos=random.randint(0,len(validchars)-10)\n",
    "        login=validchars[pos]+login\n",
    "    servers=['@gmail','@yahoo','@redmail','@hotmail','@bing']\n",
    "    servpos=random.randint(0,len(servers)-1)\n",
    "    email=login+servers[servpos]\n",
    "    tlds=['.com','.in','.gov','.ac.in','.net','.org']\n",
    "    tldpos=random.randint(0,len(tlds)-1)\n",
    "    email=email+tlds[tldpos]\n",
    "    return email\n",
    "\n",
    "def get_random_name():\n",
    "    letters = string.ascii_lowercase\n",
    "    return ''.join(random.choice(letters) for i in range(7))\n",
    "\n",
    "def get_random_address():\n",
    "    letters = string.ascii_lowercase\n",
    "    return ''.join(random.choice(letters) for i in range(30))\n",
    "\n",
    "for i in range(50):\n",
    "    fname = get_random_name().capitalize()\n",
    "    lname = get_random_name().capitalize()\n",
    "    dob = datetime.now() - timedelta(days=random.randint(365*18, 365*80))\n",
    "    location = {\"lat\": random.uniform(-90, 90), \"long\": random.uniform(-180, 180)}\n",
    "    \n",
    "    homecare1_data = {\"fname\": fname, \"lname\": lname, \"dob\": dob, \"location\": location, \"mail\":get_random_email()}\n",
    "    eportal_data = {\"firstname\": fname, \"lastname\": lname, \"date_of_birth\": dob, \"location\": location ,\"email\":get_random_email()}\n",
    "    s2travel_data = {\"first_name\": fname, \"last_name\": lname, \"DOB\": dob, \"loc\": location,\"EMAIL\":get_random_email(), \"address\":get_random_address()}\n",
    "    \n",
    "    homecare_users.insert_one(homecare1_data)\n",
    "    eportal_users.insert_one(eportal_data)\n",
    "    s2travel_users.insert_one(s2travel_data)\n",
    "    \n",
    "print(\"done\")\n"
   ]
  },
  {
   "cell_type": "code",
   "execution_count": 64,
   "id": "f6650d2b-0482-4baf-b10b-cc9c01a60330",
   "metadata": {
    "tags": []
   },
   "outputs": [
    {
     "name": "stdout",
     "output_type": "stream",
     "text": [
      "All user data inserted into profiler.users collection\n"
     ]
    }
   ],
   "source": [
    "import pymongo\n",
    "\n",
    "client = pymongo.MongoClient(\"mongodb://localhost:27017/\")\n",
    "\n",
    "dbs = [\n",
    "    {\"name\": \"homecare\", \"fields\": [\"fname\", \"lname\", \"dob\", \"location\",\"mail\"]},\n",
    "    {\"name\": \"eportal\", \"fields\": [\"firstname\", \"lastname\", \"date_of_birth\", \"location\",\"email\"]},\n",
    "    {\"name\": \"s2travel\", \"fields\": [\"first_name\", \"last_name\", \"DOB\", \"location\",\"EMAIL\", \"address\"]}\n",
    "]\n",
    "\n",
    "db4_name = \"profiler\"\n",
    "collection_name = \"users\"\n",
    "\n",
    "db4 = client[db4_name]\n",
    "users = db4[collection_name]\n",
    "\n",
    "users.create_index([(\"EMAIL\", pymongo.ASCENDING)], unique=True)\n",
    "\n",
    "for db in dbs:\n",
    "    database = client[db[\"name\"]]\n",
    "    users_collection = database[\"users\"]\n",
    "    \n",
    "    for user_data in users_collection.find():\n",
    "        keys = [\"FIRST_NAME\", \"LAST_NAME\", \"DOB\",\"LOCATION\",\"EMAIL\",\"ADDRESS\"]\n",
    "        \n",
    "        combined_user_data = {}\n",
    "        for key in keys:\n",
    "            if key == \"FIRST_NAME\":\n",
    "                combined_user_data[key] = user_data.get(db[\"fields\"][0], \"\").capitalize()\n",
    "            elif key == \"LAST_NAME\":\n",
    "                combined_user_data[key] = user_data.get(db[\"fields\"][1], \"\").capitalize()\n",
    "            elif key == \"DOB\":\n",
    "                combined_user_data[key] = user_data.get(db[\"fields\"][2], \"\")\n",
    "            elif key == \"LOCATION\":\n",
    "                combined_user_data[key] = user_data.get(db[\"fields\"][3], \"\")\n",
    "            elif key == \"EMAIL\":\n",
    "                combined_user_data[key] = user_data.get(db[\"fields\"][4], \"\")\n",
    "            elif key == \"ADDRESS\" and db['name'] == 's2travel':\n",
    "                combined_user_data[key] = user_data.get(db[\"fields\"][5], \"\")\n",
    "                \n",
    "        existing_user = users.find_one({\"EMAIL\": combined_user_data[\"EMAIL\"]})\n",
    "        if existing_user is not None:\n",
    "            print(f\"Skipping user with email {combined_user_data['EMAIL']} as it already exists\")\n",
    "            continue\n",
    "                \n",
    "                \n",
    "        try:\n",
    "            users.insert_one(combined_user_data)\n",
    "        except e:\n",
    "            print(e)\n",
    "    \n",
    "        \n",
    "\n",
    "    \n",
    "print(f\"All user data inserted into {db4_name}.{collection_name} collection\")"
   ]
  },
  {
   "cell_type": "code",
   "execution_count": null,
   "id": "14e3a6e9-049b-47d4-8030-7a839fa130f5",
   "metadata": {},
   "outputs": [],
   "source": []
  }
 ],
 "metadata": {
  "kernelspec": {
   "display_name": "Python 3 (ipykernel)",
   "language": "python",
   "name": "python3"
  },
  "language_info": {
   "codemirror_mode": {
    "name": "ipython",
    "version": 3
   },
   "file_extension": ".py",
   "mimetype": "text/x-python",
   "name": "python",
   "nbconvert_exporter": "python",
   "pygments_lexer": "ipython3",
   "version": "3.10.6"
  }
 },
 "nbformat": 4,
 "nbformat_minor": 5
}
