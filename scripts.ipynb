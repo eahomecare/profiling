{
 "cells": [
  {
   "cell_type": "code",
   "execution_count": null,
   "id": "d039a9ba-663b-4320-bdbc-692382fe1f07",
   "metadata": {},
   "outputs": [],
   "source": []
  },
  {
   "cell_type": "code",
   "execution_count": 13,
   "id": "eb57bcbd-377b-47b5-80b6-28d74bbb927b",
   "metadata": {},
   "outputs": [
    {
     "name": "stdout",
     "output_type": "stream",
     "text": [
      "|    | FIRSTNAME               | LASTNAME                |      BIN |       MOBILE | EMAIL                      |   PRIMARYCARD | CARD_CREATION_DATE   |   ACCOUNTSERNO |   CARDSERNO |   RMNAME |\n",
      "|---:|:------------------------|:------------------------|---------:|-------------:|:---------------------------|--------------:|:---------------------|---------------:|------------:|---------:|\n",
      "|  0 | Unidentified First NAme | ANSH                    | 42113700 | 919398742700 | ANSHSINGHVEE@GMAIL.COM     |             0 | 10Jul2023            |       27965111 |    37346654 |      nan |\n",
      "|  1 | Unidentified First NAme | ANUSH                   | 42113700 | 919626999111 | Aswin@herofAshion.com      |             0 | 26Nov2021            |       29337588 |    20615046 |      nan |\n",
      "|  2 | Unidentified First NAme | GOUTHAM                 | 42113700 | 919008839300 | SAMARATH@PRITHVIJEWELS.COM |             0 | 12Jul2022            |       39259747 |    26753794 |      nan |\n",
      "|  3 | Unidentified First NAme | LAKSHMI PRABHA SELVARAJ | 42113700 | 919003711551 | susilAselvArAj65@gmAil.com |             0 | 05Oct2021            |       33683937 |    19547800 |      nan |\n",
      "|  4 | Unidentified First NAme | SAHIL                   | 42113700 | 919320640646 | sAhil@ApeAmysore.com       |             1 | 04Aug2023            |       50001409 |    38220164 |      nan |\n"
     ]
    }
   ],
   "source": [
    "import pandas as pd\n",
    "\n",
    "file_path = 'raw.csv'\n",
    "\n",
    "df = pd.read_csv(file_path)\n",
    "\n",
    "print(df.head().to_markdown())"
   ]
  },
  {
   "cell_type": "code",
   "execution_count": 14,
   "id": "c8e1c86a-7352-44b5-99a1-457206076a82",
   "metadata": {},
   "outputs": [
    {
     "name": "stdout",
     "output_type": "stream",
     "text": [
      "|    | FIRSTNAME    | LASTNAME                |      BIN |       MOBILE | EMAIL                      |   PRIMARYCARD | CARD_CREATION_DATE   |   ACCOUNTSERNO |   CARDSERNO |   RMNAME |\n",
      "|---:|:-------------|:------------------------|---------:|-------------:|:---------------------------|--------------:|:---------------------|---------------:|------------:|---------:|\n",
      "|  0 | unidentified | ANSH                    | 42113700 | 919398742700 | ANSHSINGHVEE@GMAIL.COM     |             0 | 10Jul2023            |       27965111 |    37346654 |      nan |\n",
      "|  1 | unidentified | ANUSH                   | 42113700 | 919626999111 | Aswin@herofAshion.com      |             0 | 26Nov2021            |       29337588 |    20615046 |      nan |\n",
      "|  2 | unidentified | GOUTHAM                 | 42113700 | 919008839300 | SAMARATH@PRITHVIJEWELS.COM |             0 | 12Jul2022            |       39259747 |    26753794 |      nan |\n",
      "|  3 | unidentified | LAKSHMI PRABHA SELVARAJ | 42113700 | 919003711551 | susilAselvArAj65@gmAil.com |             0 | 05Oct2021            |       33683937 |    19547800 |      nan |\n",
      "|  4 | unidentified | SAHIL                   | 42113700 | 919320640646 | sAhil@ApeAmysore.com       |             1 | 04Aug2023            |       50001409 |    38220164 |      nan |\n"
     ]
    }
   ],
   "source": [
    "df_copy = df.copy()\n",
    "df_copy['FIRSTNAME'] = df_copy['FIRSTNAME'].apply(lambda x: 'unidentified' if pd.isna(x) or x.lower() == 'unidentified first name' else x)\n",
    "df_copy['LASTNAME'] = df_copy['LASTNAME'].apply(lambda x: 'unidentified' if pd.isna(x) or x.lower() == 'unidentified last name' else x)\n",
    "\n",
    "print(df_copy.head().to_markdown())"
   ]
  },
  {
   "cell_type": "code",
   "execution_count": 15,
   "id": "d3fd4f50-b399-4294-898d-30e027f56816",
   "metadata": {},
   "outputs": [
    {
     "name": "stdout",
     "output_type": "stream",
     "text": [
      "|    | FIRSTNAME    | LASTNAME                |      BIN |       MOBILE | EMAIL                      |   PRIMARYCARD | CARD_CREATION_DATE   |   ACCOUNTSERNO |   CARDSERNO |   RMNAME |\n",
      "|---:|:-------------|:------------------------|---------:|-------------:|:---------------------------|--------------:|:---------------------|---------------:|------------:|---------:|\n",
      "|  0 | unidentified | ANSH                    | 42113700 | 919398742700 | anshsinghvee@gmail.com     |             0 | 10Jul2023            |       27965111 |    37346654 |      nan |\n",
      "|  1 | unidentified | ANUSH                   | 42113700 | 919626999111 | aswin@herofashion.com      |             0 | 26Nov2021            |       29337588 |    20615046 |      nan |\n",
      "|  2 | unidentified | GOUTHAM                 | 42113700 | 919008839300 | samarath@prithvijewels.com |             0 | 12Jul2022            |       39259747 |    26753794 |      nan |\n",
      "|  3 | unidentified | LAKSHMI PRABHA SELVARAJ | 42113700 | 919003711551 | susilaselvaraj65@gmail.com |             0 | 05Oct2021            |       33683937 |    19547800 |      nan |\n",
      "|  4 | unidentified | SAHIL                   | 42113700 | 919320640646 | sahil@apeamysore.com       |             1 | 04Aug2023            |       50001409 |    38220164 |      nan |\n"
     ]
    }
   ],
   "source": [
    "df_copy['EMAIL'] = df_copy['EMAIL'].str.replace(r'@c$', '@com', case=False)\n",
    "df_copy['EMAIL'] = df_copy['EMAIL'].str.replace(r'@co$', '@com', case=False)\n",
    "df_copy['EMAIL'] = df_copy['EMAIL'].str.replace(r'(?<!\\.)com$', '.com', case=False)\n",
    "df_copy['EMAIL'] = df_copy['EMAIL'].str.lower()\n",
    "\n",
    "print(df_copy.head().to_markdown())"
   ]
  },
  {
   "cell_type": "code",
   "execution_count": 17,
   "id": "89d13634-d0bc-4b74-a1a6-c7c6da616143",
   "metadata": {},
   "outputs": [
    {
     "name": "stdout",
     "output_type": "stream",
     "text": [
      "|    | FIRSTNAME    | LASTNAME                |      BIN | MOBILE         | EMAIL                      |   PRIMARYCARD | CARD_CREATION_DATE   |   ACCOUNTSERNO |   CARDSERNO |   RMNAME |\n",
      "|---:|:-------------|:------------------------|---------:|:---------------|:---------------------------|--------------:|:---------------------|---------------:|------------:|---------:|\n",
      "|  0 | unidentified | ANSH                    | 42113700 | (91)9398742700 | anshsinghvee@gmail.com     |             0 | 10Jul2023            |       27965111 |    37346654 |      nan |\n",
      "|  1 | unidentified | ANUSH                   | 42113700 | (91)9626999111 | aswin@herofashion.com      |             0 | 26Nov2021            |       29337588 |    20615046 |      nan |\n",
      "|  2 | unidentified | GOUTHAM                 | 42113700 | (91)9008839300 | samarath@prithvijewels.com |             0 | 12Jul2022            |       39259747 |    26753794 |      nan |\n",
      "|  3 | unidentified | LAKSHMI PRABHA SELVARAJ | 42113700 | (91)9003711551 | susilaselvaraj65@gmail.com |             0 | 05Oct2021            |       33683937 |    19547800 |      nan |\n",
      "|  4 | unidentified | SAHIL                   | 42113700 | (91)9320640646 | sahil@apeamysore.com       |             1 | 04Aug2023            |       50001409 |    38220164 |      nan |\n"
     ]
    }
   ],
   "source": [
    "df_copy['MOBILE'] = df_copy['MOBILE'].astype(str).apply(lambda x: f\"({x[:2]}){x[2:]}\" if x.startswith('91') else x)\n",
    "\n",
    "print(df_copy.head().to_markdown())"
   ]
  },
  {
   "cell_type": "code",
   "execution_count": 18,
   "id": "80d0221c-ad9a-4c95-92ea-e205dd79fa2c",
   "metadata": {},
   "outputs": [],
   "source": [
    "df_copy.to_csv('epn_cleaned.csv', index=False)"
   ]
  }
 ],
 "metadata": {
  "kernelspec": {
   "display_name": "Python 3 (ipykernel)",
   "language": "python",
   "name": "python3"
  },
  "language_info": {
   "codemirror_mode": {
    "name": "ipython",
    "version": 3
   },
   "file_extension": ".py",
   "mimetype": "text/x-python",
   "name": "python",
   "nbconvert_exporter": "python",
   "pygments_lexer": "ipython3",
   "version": "3.11.5"
  }
 },
 "nbformat": 4,
 "nbformat_minor": 5
}
