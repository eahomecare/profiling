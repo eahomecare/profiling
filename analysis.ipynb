{
 "cells": [
  {
   "cell_type": "markdown",
   "id": "65103a23-ae22-4b11-826f-2ad496a06759",
   "metadata": {},
   "source": [
    "## analysis points\n",
    "* added header **is_buisness** as a flag and checking email domain is part of public email eg.gmail,hotmail,etc\n",
    "* added header **nri** as a flag and checking based on mobile country code\n",
    "* added header **dead_email** as a flag and checking based on email deliveribility status check"
   ]
  },
  {
   "cell_type": "code",
   "execution_count": 2,
   "id": "5fba2587-4dd8-4b17-a5b1-eb42d12e41a9",
   "metadata": {},
   "outputs": [
    {
     "name": "stdout",
     "output_type": "stream",
     "text": [
      "|    | FIRSTNAME    | LASTNAME                |      BIN | MOBILE         | EMAIL                      |   PRIMARYCARD | CARD_CREATION_DATE   |   ACCOUNTSERNO |   CARDSERNO |   RMNAME |\n",
      "|---:|:-------------|:------------------------|---------:|:---------------|:---------------------------|--------------:|:---------------------|---------------:|------------:|---------:|\n",
      "|  0 | unidentified | ANSH                    | 42113700 | (91)9398742700 | anshsinghvee@gmail.com     |             0 | 10Jul2023            |       27965111 |    37346654 |      nan |\n",
      "|  1 | unidentified | ANUSH                   | 42113700 | (91)9626999111 | aswin@herofashion.com      |             0 | 26Nov2021            |       29337588 |    20615046 |      nan |\n",
      "|  2 | unidentified | GOUTHAM                 | 42113700 | (91)9008839300 | samarath@prithvijewels.com |             0 | 12Jul2022            |       39259747 |    26753794 |      nan |\n",
      "|  3 | unidentified | LAKSHMI PRABHA SELVARAJ | 42113700 | (91)9003711551 | susilaselvaraj65@gmail.com |             0 | 05Oct2021            |       33683937 |    19547800 |      nan |\n",
      "|  4 | unidentified | SAHIL                   | 42113700 | (91)9320640646 | sahil@apeamysore.com       |             1 | 04Aug2023            |       50001409 |    38220164 |      nan |\n"
     ]
    }
   ],
   "source": [
    "import pandas as pd\n",
    "\n",
    "file_path = 'epn_cleaned.csv'\n",
    "\n",
    "df = pd.read_csv(file_path)\n",
    "\n",
    "print(df.head().to_markdown())"
   ]
  },
  {
   "cell_type": "code",
   "execution_count": 3,
   "id": "cf04227f-1bdd-4c3e-9ca5-4d39537f359d",
   "metadata": {},
   "outputs": [
    {
     "name": "stdout",
     "output_type": "stream",
     "text": [
      "|    | FIRSTNAME    | LASTNAME                |      BIN | MOBILE         | EMAIL                      |   PRIMARYCARD | CARD_CREATION_DATE   |   ACCOUNTSERNO |   CARDSERNO |   RMNAME |   is_business |\n",
      "|---:|:-------------|:------------------------|---------:|:---------------|:---------------------------|--------------:|:---------------------|---------------:|------------:|---------:|--------------:|\n",
      "|  0 | unidentified | ANSH                    | 42113700 | (91)9398742700 | anshsinghvee@gmail.com     |             0 | 10Jul2023            |       27965111 |    37346654 |      nan |             0 |\n",
      "|  1 | unidentified | ANUSH                   | 42113700 | (91)9626999111 | aswin@herofashion.com      |             0 | 26Nov2021            |       29337588 |    20615046 |      nan |             1 |\n",
      "|  2 | unidentified | GOUTHAM                 | 42113700 | (91)9008839300 | samarath@prithvijewels.com |             0 | 12Jul2022            |       39259747 |    26753794 |      nan |             1 |\n",
      "|  3 | unidentified | LAKSHMI PRABHA SELVARAJ | 42113700 | (91)9003711551 | susilaselvaraj65@gmail.com |             0 | 05Oct2021            |       33683937 |    19547800 |      nan |             0 |\n",
      "|  4 | unidentified | SAHIL                   | 42113700 | (91)9320640646 | sahil@apeamysore.com       |             1 | 04Aug2023            |       50001409 |    38220164 |      nan |             1 |\n"
     ]
    }
   ],
   "source": [
    "df_copy = df.copy()\n",
    "\n",
    "business_domains = ['hotmail.com', 'gmail.com', 'outlook.com','yahoo.com'] \n",
    "df_copy['is_business'] = df_copy['EMAIL'].apply(lambda x: 0 if any(domain in x.lower() for domain in business_domains) else 1)\n",
    "\n",
    "print(df_copy.head().to_markdown())"
   ]
  },
  {
   "cell_type": "code",
   "execution_count": 4,
   "id": "deee0d3b-c437-4990-927d-133ceca3f6b5",
   "metadata": {},
   "outputs": [
    {
     "name": "stdout",
     "output_type": "stream",
     "text": [
      "|    | FIRSTNAME    | LASTNAME                |      BIN | MOBILE         | EMAIL                      |   PRIMARYCARD | CARD_CREATION_DATE   |   ACCOUNTSERNO |   CARDSERNO |   RMNAME |   is_business |   nri |\n",
      "|---:|:-------------|:------------------------|---------:|:---------------|:---------------------------|--------------:|:---------------------|---------------:|------------:|---------:|--------------:|------:|\n",
      "|  0 | unidentified | ANSH                    | 42113700 | (91)9398742700 | anshsinghvee@gmail.com     |             0 | 10Jul2023            |       27965111 |    37346654 |      nan |             0 |     0 |\n",
      "|  1 | unidentified | ANUSH                   | 42113700 | (91)9626999111 | aswin@herofashion.com      |             0 | 26Nov2021            |       29337588 |    20615046 |      nan |             1 |     0 |\n",
      "|  2 | unidentified | GOUTHAM                 | 42113700 | (91)9008839300 | samarath@prithvijewels.com |             0 | 12Jul2022            |       39259747 |    26753794 |      nan |             1 |     0 |\n",
      "|  3 | unidentified | LAKSHMI PRABHA SELVARAJ | 42113700 | (91)9003711551 | susilaselvaraj65@gmail.com |             0 | 05Oct2021            |       33683937 |    19547800 |      nan |             0 |     0 |\n",
      "|  4 | unidentified | SAHIL                   | 42113700 | (91)9320640646 | sahil@apeamysore.com       |             1 | 04Aug2023            |       50001409 |    38220164 |      nan |             1 |     0 |\n"
     ]
    }
   ],
   "source": [
    "df_copy['nri'] = df_copy['MOBILE'].apply(lambda x: 0 if x[:2] != '91' else 1)\n",
    "\n",
    "print(df_copy.head().to_markdown())"
   ]
  },
  {
   "cell_type": "code",
   "execution_count": 6,
   "id": "7a9dc8d5-4cc2-402b-ac37-3ee5f119d79f",
   "metadata": {},
   "outputs": [
    {
     "name": "stdout",
     "output_type": "stream",
     "text": [
      "An error occurred: The email address contains invalid characters before the @-sign: ','.\n",
      "|    | FIRSTNAME    | LASTNAME                |      BIN | MOBILE         | EMAIL                      |   PRIMARYCARD | CARD_CREATION_DATE   |   ACCOUNTSERNO |   CARDSERNO |   RMNAME |   is_business |   nri |\n",
      "|---:|:-------------|:------------------------|---------:|:---------------|:---------------------------|--------------:|:---------------------|---------------:|------------:|---------:|--------------:|------:|\n",
      "|  0 | unidentified | ANSH                    | 42113700 | (91)9398742700 | anshsinghvee@gmail.com     |             0 | 10Jul2023            |       27965111 |    37346654 |      nan |             0 |     0 |\n",
      "|  1 | unidentified | ANUSH                   | 42113700 | (91)9626999111 | aswin@herofashion.com      |             0 | 26Nov2021            |       29337588 |    20615046 |      nan |             1 |     0 |\n",
      "|  2 | unidentified | GOUTHAM                 | 42113700 | (91)9008839300 | samarath@prithvijewels.com |             0 | 12Jul2022            |       39259747 |    26753794 |      nan |             1 |     0 |\n",
      "|  3 | unidentified | LAKSHMI PRABHA SELVARAJ | 42113700 | (91)9003711551 | susilaselvaraj65@gmail.com |             0 | 05Oct2021            |       33683937 |    19547800 |      nan |             0 |     0 |\n",
      "|  4 | unidentified | SAHIL                   | 42113700 | (91)9320640646 | sahil@apeamysore.com       |             1 | 04Aug2023            |       50001409 |    38220164 |      nan |             1 |     0 |\n"
     ]
    }
   ],
   "source": [
    "from email_validator import validate_email\n",
    "\n",
    "try:\n",
    "    df_copy['dead_mail'] = df_copy['EMAIL'].apply(lambda x: 1 if not validate_email(x) else 0)\n",
    "    df_copy['not_deliverable'] = df_copy['EMAIL'].apply(lambda x: 1 if validate_email(x, check_deliverability=True) == False else 0)\n",
    "except Exception as e:\n",
    "    print(f\"An error occurred: {e}\")\n",
    "\n",
    "print(df_copy.head().to_markdown())\n"
   ]
  },
  {
   "cell_type": "code",
   "execution_count": 62,
   "id": "2a5080ea-458c-4f66-8183-6295221c62db",
   "metadata": {},
   "outputs": [
    {
     "name": "stderr",
     "output_type": "stream",
     "text": [
      "/tmp/ipykernel_39048/1492599228.py:34: PydanticDeprecatedSince20: The `dict` method is deprecated; use `model_dump` instead. Deprecated in Pydantic V2.0 to be removed in V3.0. See Pydantic V2 Migration Guide at https://errors.pydantic.dev/2.5/migration/\n",
      "  keywords = ast.literal_eval(response.dict()['choices'][0]['message']['content'])['keywords']\n"
     ]
    },
    {
     "name": "stdout",
     "output_type": "stream",
     "text": [
      "|    | FIRSTNAME        | LASTNAME                |      BIN | MOBILE         | EMAIL                        |   PRIMARYCARD | CARD_CREATION_DATE   |   ACCOUNTSERNO |   CARDSERNO |   RMNAME |   is_business |   nri | keywords                  |\n",
      "|---:|:-----------------|:------------------------|---------:|:---------------|:-----------------------------|--------------:|:---------------------|---------------:|------------:|---------:|--------------:|------:|:--------------------------|\n",
      "|  0 | unidentified     | ANSH                    | 42113700 | (91)9398742700 | anshsinghvee@gmail.com       |             0 | 10Jul2023            |       27965111 |    37346654 |      nan |             0 |     0 |                           |\n",
      "|  1 | unidentified     | ANUSH                   | 42113700 | (91)9626999111 | aswin@herofashion.com        |             0 | 26Nov2021            |       29337588 |    20615046 |      nan |             1 |     0 | fashion, CEO              |\n",
      "|  2 | unidentified     | GOUTHAM                 | 42113700 | (91)9008839300 | samarath@prithvijewels.com   |             0 | 12Jul2022            |       39259747 |    26753794 |      nan |             1 |     0 |                           |\n",
      "|  3 | unidentified     | LAKSHMI PRABHA SELVARAJ | 42113700 | (91)9003711551 | susilaselvaraj65@gmail.com   |             0 | 05Oct2021            |       33683937 |    19547800 |      nan |             0 |     0 |                           |\n",
      "|  4 | unidentified     | SAHIL                   | 42113700 | (91)9320640646 | sahil@apeamysore.com         |             1 | 04Aug2023            |       50001409 |    38220164 |      nan |             1 |     0 | professional, efficient   |\n",
      "|  5 | unidentified     | SHALU                   | 42113700 | (91)9962275059 | chairman@medwayhospitals.com |             0 | 04Feb2023            |       44936892 |    32320248 |      nan |             1 |     0 | hospitals, chairman       |\n",
      "|  6 | unidentified     | SMITHA                  | 42113700 | (91)9845093474 | smitha.rao@gmail.com         |             1 | 18Aug2023            |       50335533 |    38614750 |      nan |             0 |     0 |                           |\n",
      "|  7 | unidentified     | VANCHINATHAN            | 42113700 | (91)9962163322 | svanchi@gmail.com            |             1 | 27Jul2023            |       49753471 |    37932784 |      nan |             0 |     0 |                           |\n",
      "|  8 | A                | BADRINARAYANAN          | 42113700 | (91)9841025591 | acplmd@gmail.com             |             0 | 21Aug2023            |       49931920 |    38701170 |      nan |             0 |     0 |                           |\n",
      "|  9 | A                | RACHEL                  | 42113700 | (91)9994889999 | premnath@pptservices.com     |             0 | 01Oct2022            |       42014564 |    28905768 |      nan |             1 |     0 |                           |\n",
      "| 10 | A                | SUGUNA                  | 42113700 | (91)9444017194 | suguna10@hotmail.com         |             0 | 14Jan2020            |       27367234 |    14880247 |      nan |             0 |     0 |                           |\n",
      "| 11 | A                | SUGUNA                  | 42113700 | (91)9884034290 | suguna10@hotmail.com         |             1 | 11Jul2022            |       40118716 |    26715842 |      nan |             0 |     0 |                           |\n",
      "| 12 | A                | VELUMANI                | 42113700 | (91)7400042888 | avm@velumani.com             |             1 | 09Sep2021            |       33429251 |    18966560 |      nan |             1 |     0 |                           |\n",
      "| 13 | A R              | GOKULAKRISHNAN          | 42113700 | (91)9820136937 | a.r.gokulakrishnan@gmail.com |             1 | 21Jan2020            |       27481216 |    14945348 |      nan |             0 |     0 |                           |\n",
      "| 14 | AADI NANDAN      | SAGAR                   | 42113700 | (91)9900032153 | aadi@total-environment.com   |             0 | 09May2023            |       47122343 |    35382210 |      nan |             1 |     0 | real estate, construction |\n",
      "| 15 | AADIT            | KALYANI                 | 42113700 | (91)9890137370 | abkalyani@bharatforge.com    |             0 | 05Aug2020            |       27380462 |    15846888 |      nan |             1 |     0 | automotive, manufacturing |\n",
      "| 16 | AADITEYA         | PATEL                   | 42113700 | (91)9825009020 | mrpatelsons@gmail.com        |             0 | 12Dec2022            |       42793434 |    30788800 |      nan |             0 |     0 |                           |\n",
      "| 17 | AADITYA          | SRINIVASAN              | 42113700 | (91)7997000401 | aaditya1899@gmail.com        |             0 | 13Sep2023            |       33390801 |    39426750 |      nan |             0 |     0 |                           |\n",
      "| 18 | AADYA            | RAMSWAROOP              | 42113700 | (91)9810496904 | investram@icloud.com         |             0 | 25May2022            |       28081907 |    25380212 |      nan |             1 |     0 | investment, finance       |\n",
      "| 19 | AADYAA           | BHATT                   | 42113700 | (91)7016759892 | amarbhatt@yahoo.com          |             0 | 28Feb2023            |       28848140 |    33037944 |      nan |             1 |     0 |                           |\n",
      "| 20 | AADYAA SINGHANIA | SINGHANIA               | 42113700 | (91)9311723008 | asav.fo@jkmail.com           |             0 | 26Oct2022            |       40900266 |    29581914 |      nan |             1 |     0 | fashion, business owner   |\n",
      "| 21 | AAGAM A          | SHETH                   | 42113700 | (91)9819900553 | hiten@shethoffice.in         |             0 | 03Sep2020            |       29168698 |    15964489 |      nan |             1 |     0 | office, business          |\n",
      "| 22 | AAGAM ANUJKUMAR  | SHETH                   | 42113700 | (91)9819900553 | aagam@shethoffice.in         |             1 | 30Aug2023            |       50679350 |    39008336 |      nan |             1 |     0 |                           |\n",
      "| 23 | AAKANKSHA        | JAIN                    | 42113700 | (91)9920014314 | aajain193@gmail.com          |             1 | 06Jul2023            |       49182461 |    37266548 |      nan |             0 |     0 |                           |\n",
      "| 24 | AAKASH           | CHAUHAN                 | 42113700 | (91)9820356004 | arup@parle.biz               |             0 | 30Dec2020            |       27507304 |    26958510 |      nan |             1 |     0 | food, manufacturing       |\n",
      "| 25 | AAKASH           | PATWA                   | 42113700 | (91)9408805423 | premalpatwa.hhpe@gmail.com   |             0 | 01Jun2021            |       32384693 |    17717810 |      nan |             0 |     0 |                           |\n",
      "| 26 | AAKASH NAVIN     | TAYAL                   | 42113700 | (91)9819020704 | aakash.hif@gmail.com         |             1 | 17Jan2023            |       44511481 |    31782866 |      nan |             0 |     0 |                           |\n",
      "| 27 | AAKRITI          | KUMAR                   | 42113700 | (91)9711767119 | aakritikumar2@gmail.com      |             0 | 16Jun2023            |       46510278 |    36662292 |      nan |             0 |     0 |                           |\n",
      "| 28 | AANCHAL          | MEHROTRA                | 42113700 | (91)9819865533 | ceo@kimatsu.com              |             0 | 01Jul2022            |       27516039 |    26479102 |      nan |             1 |     0 | ceo, kimatsu              |\n",
      "| 29 | AANYA            | DALMIA                  | 42113700 | (91)9810082700 | sanjay@jiva-designs.com      |             0 | 25Jan2021            |       27481423 |    16836483 |      nan |             1 |     0 |                           |\n"
     ]
    }
   ],
   "source": [
    "import openai\n",
    "import pandas as pd\n",
    "import os\n",
    "from dotenv import load_dotenv\n",
    "import ast\n",
    "\n",
    "load_dotenv()\n",
    "\n",
    "client = OpenAI(api_key=os.getenv(\"OPEN_API_KEY\"))\n",
    "\n",
    "def get_keywords(row):\n",
    "    try:\n",
    "        response = client.chat.completions.create(\n",
    "        model=\"gpt-3.5-turbo\",\n",
    "        messages=[\n",
    "            {\n",
    "              \"role\": \"system\",\n",
    "              \"content\": \"\"\"You will be provided with a buisness emails of customer and your task is to extract a list of keywords\n",
    "              from it which describes the customer buisness domain,like fashion,jwellery,sports etc,\n",
    "              also if email username contains designation like ceo@email.com or director@...then pickup designation also as keyword like eg. ceo,director,etc\n",
    "              give output keywords as json dont add any thing in output.,give only 2 keywords max not more than 2,\n",
    "              exclude keywords like proffessional,efficient,sophisticated,friendly, approachable etc\"\"\"\n",
    "            },\n",
    "            {\n",
    "              \"role\": \"user\",\n",
    "              \"content\": row['EMAIL']\n",
    "            }\n",
    "          ],\n",
    "          temperature=0.9,\n",
    "          max_tokens=64,\n",
    "          top_p=1\n",
    "        )\n",
    "\n",
    "        keywords = ast.literal_eval(response.dict()['choices'][0]['message']['content'])['keywords']\n",
    "        return ', '.join(keywords[:2]) if keywords else None\n",
    "    except Exception as e:\n",
    "        return None\n",
    "\n",
    "df_copy['keywords'] = df_copy.apply(lambda row: get_keywords(row) if row['is_business'] == 1 and row.name < 30 else None, axis=1)\n",
    "\n",
    "\n",
    "print(df_copy.head(30).to_markdown())\n",
    "\n"
   ]
  },
  {
   "cell_type": "code",
   "execution_count": null,
   "id": "d9f0dc26-9ec9-4652-a153-68de924bb004",
   "metadata": {},
   "outputs": [],
   "source": []
  }
 ],
 "metadata": {
  "kernelspec": {
   "display_name": "Python 3 (ipykernel)",
   "language": "python",
   "name": "python3"
  },
  "language_info": {
   "codemirror_mode": {
    "name": "ipython",
    "version": 3
   },
   "file_extension": ".py",
   "mimetype": "text/x-python",
   "name": "python",
   "nbconvert_exporter": "python",
   "pygments_lexer": "ipython3",
   "version": "3.10.12"
  }
 },
 "nbformat": 4,
 "nbformat_minor": 5
}
