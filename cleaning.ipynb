{
 "cells": [
  {
   "cell_type": "markdown",
   "id": "f25c363b-5f63-49ad-8072-a0c15e6d34ac",
   "metadata": {},
   "source": [
    "## Basic Email/Phone/Name cleaning\n",
    "* if firstname/lastname are empty or null or Unidentified First NAme then set it to **undentified**\n",
    "* if emails contains .co or .c or COM or Com or com is appended without dot then all corrected with suffix **.com**\n",
    "* if phone number contains country code then put it into bracket eg. 919826483920 is now corrected to **(91)** 9826483920"
   ]
  },
  {
   "cell_type": "code",
   "execution_count": 33,
   "id": "eb57bcbd-377b-47b5-80b6-28d74bbb927b",
   "metadata": {},
   "outputs": [
    {
     "name": "stdout",
     "output_type": "stream",
     "text": [
      "|    | FIRSTNAME               | LASTNAME                |      BIN |       MOBILE | EMAIL                      |   PRIMARYCARD | CARD_CREATION_DATE   |   ACCOUNTSERNO |   CARDSERNO |   RMNAME |\n",
      "|---:|:------------------------|:------------------------|---------:|-------------:|:---------------------------|--------------:|:---------------------|---------------:|------------:|---------:|\n",
      "|  0 | Unidentified First NAme | ANSH                    |  4211300 | 919398742700 | ANSHSINGHVEE@GMAIL.COM     |             0 | 10Jul2023            |       27965111 |    37346654 |      nan |\n",
      "|  1 | Unidentified First NAme | ANUSH                   |  4211700 | 919626999111 | Aswin@herofAshion.com      |             0 | 26Nov2021            |       29337588 |    20615046 |      nan |\n",
      "|  2 | Unidentified First NAme | GOUTHAM                 |  4213700 | 919008839300 | SAMARATH@PRITHVIJEWELS.COM |             0 | 12Jul2022            |       39259747 |    26753794 |      nan |\n",
      "|  3 | Unidentified First NAme | LAKSHMI PRABHA SELVARAJ | 42113700 | 919003711551 | susilAselvArAj65@gmAil.com |             0 | 05Oct2021            |       33683937 |    19547800 |      nan |\n",
      "|  4 | Unidentified First NAme | SAHIL                   | 42113700 | 919320640646 | sAhil@ApeAmysore.com       |             1 | 04Aug2023            |       50001409 |    38220164 |      nan |\n"
     ]
    }
   ],
   "source": [
    "import pandas as pd\n",
    "\n",
    "file_path = 'raw.csv'\n",
    "df = pd.read_csv(file_path)\n",
    "print(df.head().to_markdown())"
   ]
  },
  {
   "cell_type": "code",
   "execution_count": 34,
   "id": "db6ff7d0-789e-4679-89d2-9103dd6e01e7",
   "metadata": {},
   "outputs": [],
   "source": [
    "import json\n",
    "\n",
    "df_copy = df.copy()\n",
    "\n",
    "with open('config.json', 'r') as config_file:\n",
    "    config = json.load(config_file)\n",
    "    email_domain_whitelist = config.get('email_domain_whitelist', [])\n",
    "    plan_id_mapping = config.get('plan_id_mapping', {})\n",
    "\n"
   ]
  },
  {
   "cell_type": "code",
   "execution_count": 35,
   "id": "d3fd4f50-b399-4294-898d-30e027f56816",
   "metadata": {
    "scrolled": true
   },
   "outputs": [
    {
     "name": "stdout",
     "output_type": "stream",
     "text": [
      "|       | FIRSTNAME               | LASTNAME     |      BIN |       MOBILE | EMAIL                         |   PRIMARYCARD | CARD_CREATION_DATE   |   ACCOUNTSERNO |   CARDSERNO |   RMNAME | rejected_reason   |\n",
      "|------:|:------------------------|:-------------|---------:|-------------:|:------------------------------|--------------:|:---------------------|---------------:|------------:|---------:|:------------------|\n",
      "|    22 | AAGAM ANUJKUMAR         | SHETH        | 42113700 | 919819900553 | AAgAm@shethoffice.i           |             1 | 30Aug2023            |       50679350 |    39008336 |      nan | email issue       |\n",
      "|    26 | AAKASH NAVIN            | TAYAL        | 42113700 | 919819020704 | null@GMAIL.COM                |             1 | 17Jan2023            |       44511481 |    31782866 |      nan | email issue       |\n",
      "|    27 | AAKRITI                 | KUMAR        | 42113700 | 919711767119 | nouser@gmAil.com              |             0 | 16Jun2023            |       46510278 |    36662292 |      nan | email issue       |\n",
      "|    30 | AANYA                   | DUBASH       | 42113700 | 919930012728 | AAnyA.dubAsh91@gmAil.c        |             0 | 18Sep2023            |       50695348 |    39570292 |      nan | email issue       |\n",
      "|    53 | AAYUSHI                 | GOEL         | 42113700 | 918437333555 | rAghAv@kiscosteel.om          |             0 | 02Aug2022            |       40633118 |    27325596 |      nan | email issue       |\n",
      "|   667 | CHINNASAMY              | T            | 42113700 | 919944599555 | md@cylwinc.om                 |             1 | 13Dec2019            |       26923385 |    22776820 |      nan | email issue       |\n",
      "|  2992 | SUMAN                   | NEGI         | 42113700 | 919714877466 | S-N-NEGI@YAHOO.CPM            |             0 | 11Sep2023            |       50091188 |    39334750 |      nan | email issue       |\n",
      "|  3035 | SUNITA                  | AGARWAL      | 42113700 | 919810056003 | LALIT.PLASTICHEM@GMAIL.       |             0 | 18Mar2023            |       44589332 |    33715844 |      nan | email issue       |\n",
      "|  4155 | YASH VIJAY              | MEHTA        | 43656001 | 919594195941 | BANK@YASH.TEL                 |             1 | 21Oct2022            |       42507086 |    29463372 |      nan | email issue       |\n",
      "|  4225 | Unidentified First NAme | KARTHIKAYINI | 45146000 | 918790622972 | KARTHI@APERIAN.AYZ            |             1 | 17Jul2023            |       49445068 |    37578294 |      nan | email issue       |\n",
      "|  4257 | Unidentified First NAme | PANDISELVI   | 45146000 | 919488900707 | pAndiselvi3007@gmAil.cim      |             1 | 15Jun2023            |       48624794 |    36618922 |      nan | email issue       |\n",
      "|  4653 | ABHISHEK                | JAIN         | 45146000 | 919999331764 | Abhishek9871@yAhoo.con        |             1 | 07Jul2023            |       49221093 |    37310622 |      nan | email issue       |\n",
      "|  4885 | ADITYAVIKRAM            | MALU         | 45146000 | 918197733777 | mAluA@tcd.ie                  |             1 | 03Jul2023            |       49108512 |    37177962 |      nan | email issue       |\n",
      "|  4928 | AISVARYA                | SHREENIVASAN | 45146000 | 919940027427 | Ais4ice@gmAil.con             |             1 | 02Aug2023            |       49946962 |    38156834 |      nan | email issue       |\n",
      "|  5572 | ANAND KUMAR             | S            | 45146000 | 918290922229 | AnAndks88@gmAil.comjp         |             1 | 26Jun2023            |       48864967 |    36895386 |      nan | email issue       |\n",
      "|  6616 | ASHOK KUMAR             | SAHOO        | 45146000 | 917093245428 | hello@Ashok.io                |             1 | 17Jul2023            |       49456864 |    37591240 |      nan | email issue       |\n",
      "|  7140 | BHAVANSHU               | JOSHI        | 45146000 | 919711900798 | BhAvAnshu@gmAil.con           |             1 | 19Jul2023            |       49525092 |    37670182 |      nan | email issue       |\n",
      "|  8643 | GIRISH RAMESH           | BHATIA       | 45146000 | 919820929218 | girishrbhAtiA@gmAil.con       |             1 | 26Jun2023            |       48904085 |    36941066 |      nan | email issue       |\n",
      "|  9066 | HEENA AVINASH           | JAIN         | 45146000 | 919422776911 | heenAvinAsh2003@gmAil.con     |             1 | 18Apr2023            |       47062323 |    34763576 |      nan | email issue       |\n",
      "|  9436 | JASEER PANIKKAVEETTIL   | JALEEL       | 45146000 | 919567357171 | jAseer@qiA.qA                 |             1 | 05Aug2023            |       50026015 |    38249558 |      nan | email issue       |\n",
      "|  9880 | KAMLESH                 | GOEL         | 45146000 | 919435026925 | KAMLESH@VISIONINDIA.BZ        |             1 | 31Jul2023            |       49876242 |    38072244 |      nan | email issue       |\n",
      "| 10692 | M                       | VINAY        | 45146000 | 918123500344 | HADESPLAYS@ORANGUTAN.GG       |             1 | 31Jul2023            |       49851884 |    38045118 |      nan | email issue       |\n",
      "| 11720 | MRITUNJAY               | KUMAR        | 45146000 | 919308091684 | skAtyAm034@gmAil.comcom       |             1 | 13Sep2023            |       51035103 |    39423164 |      nan | email issue       |\n",
      "| 12257 | NIKHIL                  | DESAI        | 45146000 | 919422639953 | nikhiludesAi@rediffmAil.con   |             1 | 26Jun2023            |       48915559 |    36953602 |      nan | email issue       |\n",
      "| 13935 | RACHNA                  | SACHDEVA     | 45146000 | 919999908624 | rAchnAsAchdevA01@gmAil.con    |             1 | 10Jul2023            |       49254859 |    37355526 |      nan | email issue       |\n",
      "| 14519 | RAMA PROSAD             | BANERJEE     | 45146000 | 919007077779 | rpb2050@gmAil.cm              |             1 | 02Aug2023            |       49940777 |    38148760 |      nan | email issue       |\n",
      "| 15144 | RONJIV                  | BANERJEE     | 45146000 | 919831441271 | RONJIVB@YAHOO.OM              |             1 | 17Jul2023            |       49446964 |    37580284 |      nan | email issue       |\n",
      "| 15474 | SAJAN KUMAR             | AGARWAL      | 45146000 | 919331028055 | AgArwAlsAjAn5@gmAil.com`      |             1 | 11Aug2023            |       50195257 |    38446164 |      nan | email issue       |\n",
      "| 15627 | SANDEEP                 | AWASTHI      | 45146000 | 918080513808 | sAwAsthi@Act.is               |             1 | 19Aug2023            |       50362582 |    38645966 |      nan | email issue       |\n",
      "| 16731 | SHUBHAM                 | SINGH        | 45146000 | 918707727456 | vcopss@gmAil.con              |             1 | 20Jul2023            |       49539372 |    37686750 |      nan | email issue       |\n",
      "| 17358 | SUMAN                   | CHAKRABORTY  | 45146000 | 919920771024 | cAsumAnchAkrAborty@gmAil.cok  |             1 | 21Nov2022            |       43204414 |    30260968 |      nan | email issue       |\n",
      "| 17971 | TASNEEM                 | KHATRI       | 45146000 | 919833814024 | TAS0775@YAHOO.VOM             |             1 | 07Mar2022            |       36992526 |    23117134 |      nan | email issue       |\n",
      "| 18444 | VARUN                   | SALUJA       | 45146000 | 919717577299 | sAlujA50@gmAil.con            |             1 | 06Feb2023            |       44993486 |    32355202 |      nan | email issue       |\n",
      "| 18926 | VIPAN                   | KUMAR        | 45146000 | 917696770666 | AnitA.guleriA@pozitive.energy |             1 | 04Sep2023            |       50795728 |    39145616 |      nan | email issue       |\n",
      "| 19084 | VISHNU                  | U            | 45146000 | 919567198958 | pillAidrvishnu@gmAil.comA     |             1 | 26Jul2023            |       49690884 |    37862844 |      nan | email issue       |\n",
      "| 19294 | YASH VIJAY              | MEHTA        | 45146000 | 919594195941 | BANK@YASH.TEL                 |             1 | 30Mar2022            |       37736090 |    23941874 |      nan | email issue       |\n",
      "| 19835 | ASHWIN                  | RAJEEVA      | 52962900 | 917975650772 | Ashwin@AcceldAtA.io           |             1 | 14Sep2023            |       51070942 |    39464106 |      nan | email issue       |\n",
      "| 21002 | RAJAT                   | TIWARI       | 52962900 | 919999248397 | rAjAt@ocpgroup.mA             |             1 | 22Sep2023            |       51269896 |    39694736 |      nan | email issue       |\n",
      "| 21074 | RAVINDER KUMAR          | GOEL         | 52962900 | 919810019725 | mdsugAndhteA@gmAil.con        |             1 | 25Sep2023            |       51294780 |    39723318 |      nan | email issue       |\n"
     ]
    }
   ],
   "source": [
    "df_rejected = pd.DataFrame(columns=df.columns.tolist() + ['rejected_reason'])\n",
    "email_rejected_mask = ~df_copy['EMAIL'].str.lower().str.endswith(tuple(email_domain_whitelist)) | (df_copy['EMAIL'].str.lower().str.match(r'^null@') | df_copy['EMAIL'].str.lower().str.match(r'^nouser@'))\n",
    "df_rejected[df.columns] = df_copy.loc[email_rejected_mask]\n",
    "df_rejected['rejected_reason'] = 'email issue'\n",
    "df_copy = df_copy.loc[~email_rejected_mask]\n",
    "print(df_rejected.to_markdown())"
   ]
  },
  {
   "cell_type": "code",
   "execution_count": 36,
   "id": "82e8f638-19e8-46aa-8c1c-10b2d787ff53",
   "metadata": {},
   "outputs": [
    {
     "name": "stdout",
     "output_type": "stream",
     "text": [
      "|    | FIRSTNAME               | LASTNAME     |      BIN |       MOBILE | EMAIL                         |   PRIMARYCARD | CARD_CREATION_DATE   |   ACCOUNTSERNO |   CARDSERNO |   RMNAME | rejected_reason   |\n",
      "|---:|:------------------------|:-------------|---------:|-------------:|:------------------------------|--------------:|:---------------------|---------------:|------------:|---------:|:------------------|\n",
      "|  0 | AAGAM ANUJKUMAR         | SHETH        | 42113700 | 919819900553 | AAgAm@shethoffice.i           |             1 | 30Aug2023            |       50679350 |    39008336 |      nan | email issue       |\n",
      "|  1 | AAKASH NAVIN            | TAYAL        | 42113700 | 919819020704 | null@GMAIL.COM                |             1 | 17Jan2023            |       44511481 |    31782866 |      nan | email issue       |\n",
      "|  2 | AAKRITI                 | KUMAR        | 42113700 | 919711767119 | nouser@gmAil.com              |             0 | 16Jun2023            |       46510278 |    36662292 |      nan | email issue       |\n",
      "|  3 | AANYA                   | DUBASH       | 42113700 | 919930012728 | AAnyA.dubAsh91@gmAil.c        |             0 | 18Sep2023            |       50695348 |    39570292 |      nan | email issue       |\n",
      "|  4 | AAYUSHI                 | GOEL         | 42113700 | 918437333555 | rAghAv@kiscosteel.om          |             0 | 02Aug2022            |       40633118 |    27325596 |      nan | email issue       |\n",
      "|  5 | CHINNASAMY              | T            | 42113700 | 919944599555 | md@cylwinc.om                 |             1 | 13Dec2019            |       26923385 |    22776820 |      nan | email issue       |\n",
      "|  6 | SUMAN                   | NEGI         | 42113700 | 919714877466 | S-N-NEGI@YAHOO.CPM            |             0 | 11Sep2023            |       50091188 |    39334750 |      nan | email issue       |\n",
      "|  7 | SUNITA                  | AGARWAL      | 42113700 | 919810056003 | LALIT.PLASTICHEM@GMAIL.       |             0 | 18Mar2023            |       44589332 |    33715844 |      nan | email issue       |\n",
      "|  8 | YASH VIJAY              | MEHTA        | 43656001 | 919594195941 | BANK@YASH.TEL                 |             1 | 21Oct2022            |       42507086 |    29463372 |      nan | email issue       |\n",
      "|  9 | Unidentified First NAme | KARTHIKAYINI | 45146000 | 918790622972 | KARTHI@APERIAN.AYZ            |             1 | 17Jul2023            |       49445068 |    37578294 |      nan | email issue       |\n",
      "| 10 | Unidentified First NAme | PANDISELVI   | 45146000 | 919488900707 | pAndiselvi3007@gmAil.cim      |             1 | 15Jun2023            |       48624794 |    36618922 |      nan | email issue       |\n",
      "| 11 | ABHISHEK                | JAIN         | 45146000 | 919999331764 | Abhishek9871@yAhoo.con        |             1 | 07Jul2023            |       49221093 |    37310622 |      nan | email issue       |\n",
      "| 12 | ADITYAVIKRAM            | MALU         | 45146000 | 918197733777 | mAluA@tcd.ie                  |             1 | 03Jul2023            |       49108512 |    37177962 |      nan | email issue       |\n",
      "| 13 | AISVARYA                | SHREENIVASAN | 45146000 | 919940027427 | Ais4ice@gmAil.con             |             1 | 02Aug2023            |       49946962 |    38156834 |      nan | email issue       |\n",
      "| 14 | ANAND KUMAR             | S            | 45146000 | 918290922229 | AnAndks88@gmAil.comjp         |             1 | 26Jun2023            |       48864967 |    36895386 |      nan | email issue       |\n",
      "| 15 | ASHOK KUMAR             | SAHOO        | 45146000 | 917093245428 | hello@Ashok.io                |             1 | 17Jul2023            |       49456864 |    37591240 |      nan | email issue       |\n",
      "| 16 | BHAVANSHU               | JOSHI        | 45146000 | 919711900798 | BhAvAnshu@gmAil.con           |             1 | 19Jul2023            |       49525092 |    37670182 |      nan | email issue       |\n",
      "| 17 | GIRISH RAMESH           | BHATIA       | 45146000 | 919820929218 | girishrbhAtiA@gmAil.con       |             1 | 26Jun2023            |       48904085 |    36941066 |      nan | email issue       |\n",
      "| 18 | HEENA AVINASH           | JAIN         | 45146000 | 919422776911 | heenAvinAsh2003@gmAil.con     |             1 | 18Apr2023            |       47062323 |    34763576 |      nan | email issue       |\n",
      "| 19 | JASEER PANIKKAVEETTIL   | JALEEL       | 45146000 | 919567357171 | jAseer@qiA.qA                 |             1 | 05Aug2023            |       50026015 |    38249558 |      nan | email issue       |\n",
      "| 20 | KAMLESH                 | GOEL         | 45146000 | 919435026925 | KAMLESH@VISIONINDIA.BZ        |             1 | 31Jul2023            |       49876242 |    38072244 |      nan | email issue       |\n",
      "| 21 | M                       | VINAY        | 45146000 | 918123500344 | HADESPLAYS@ORANGUTAN.GG       |             1 | 31Jul2023            |       49851884 |    38045118 |      nan | email issue       |\n",
      "| 22 | MRITUNJAY               | KUMAR        | 45146000 | 919308091684 | skAtyAm034@gmAil.comcom       |             1 | 13Sep2023            |       51035103 |    39423164 |      nan | email issue       |\n",
      "| 23 | NIKHIL                  | DESAI        | 45146000 | 919422639953 | nikhiludesAi@rediffmAil.con   |             1 | 26Jun2023            |       48915559 |    36953602 |      nan | email issue       |\n",
      "| 24 | RACHNA                  | SACHDEVA     | 45146000 | 919999908624 | rAchnAsAchdevA01@gmAil.con    |             1 | 10Jul2023            |       49254859 |    37355526 |      nan | email issue       |\n",
      "| 25 | RAMA PROSAD             | BANERJEE     | 45146000 | 919007077779 | rpb2050@gmAil.cm              |             1 | 02Aug2023            |       49940777 |    38148760 |      nan | email issue       |\n",
      "| 26 | RONJIV                  | BANERJEE     | 45146000 | 919831441271 | RONJIVB@YAHOO.OM              |             1 | 17Jul2023            |       49446964 |    37580284 |      nan | email issue       |\n",
      "| 27 | SAJAN KUMAR             | AGARWAL      | 45146000 | 919331028055 | AgArwAlsAjAn5@gmAil.com`      |             1 | 11Aug2023            |       50195257 |    38446164 |      nan | email issue       |\n",
      "| 28 | SANDEEP                 | AWASTHI      | 45146000 | 918080513808 | sAwAsthi@Act.is               |             1 | 19Aug2023            |       50362582 |    38645966 |      nan | email issue       |\n",
      "| 29 | SHUBHAM                 | SINGH        | 45146000 | 918707727456 | vcopss@gmAil.con              |             1 | 20Jul2023            |       49539372 |    37686750 |      nan | email issue       |\n",
      "| 30 | SUMAN                   | CHAKRABORTY  | 45146000 | 919920771024 | cAsumAnchAkrAborty@gmAil.cok  |             1 | 21Nov2022            |       43204414 |    30260968 |      nan | email issue       |\n",
      "| 31 | TASNEEM                 | KHATRI       | 45146000 | 919833814024 | TAS0775@YAHOO.VOM             |             1 | 07Mar2022            |       36992526 |    23117134 |      nan | email issue       |\n",
      "| 32 | VARUN                   | SALUJA       | 45146000 | 919717577299 | sAlujA50@gmAil.con            |             1 | 06Feb2023            |       44993486 |    32355202 |      nan | email issue       |\n",
      "| 33 | VIPAN                   | KUMAR        | 45146000 | 917696770666 | AnitA.guleriA@pozitive.energy |             1 | 04Sep2023            |       50795728 |    39145616 |      nan | email issue       |\n",
      "| 34 | VISHNU                  | U            | 45146000 | 919567198958 | pillAidrvishnu@gmAil.comA     |             1 | 26Jul2023            |       49690884 |    37862844 |      nan | email issue       |\n",
      "| 35 | YASH VIJAY              | MEHTA        | 45146000 | 919594195941 | BANK@YASH.TEL                 |             1 | 30Mar2022            |       37736090 |    23941874 |      nan | email issue       |\n",
      "| 36 | ASHWIN                  | RAJEEVA      | 52962900 | 917975650772 | Ashwin@AcceldAtA.io           |             1 | 14Sep2023            |       51070942 |    39464106 |      nan | email issue       |\n",
      "| 37 | RAJAT                   | TIWARI       | 52962900 | 919999248397 | rAjAt@ocpgroup.mA             |             1 | 22Sep2023            |       51269896 |    39694736 |      nan | email issue       |\n",
      "| 38 | RAVINDER KUMAR          | GOEL         | 52962900 | 919810019725 | mdsugAndhteA@gmAil.con        |             1 | 25Sep2023            |       51294780 |    39723318 |      nan | email issue       |\n",
      "| 39 | Unidentified First NAme | ANSH         |  4211300 | 919398742700 | ANSHSINGHVEE@GMAIL.COM        |             0 | 10Jul2023            |       27965111 |    37346654 |      nan | plan not found    |\n",
      "| 40 | Unidentified First NAme | ANUSH        |  4211700 | 919626999111 | Aswin@herofAshion.com         |             0 | 26Nov2021            |       29337588 |    20615046 |      nan | plan not found    |\n",
      "| 41 | Unidentified First NAme | GOUTHAM      |  4213700 | 919008839300 | SAMARATH@PRITHVIJEWELS.COM    |             0 | 12Jul2022            |       39259747 |    26753794 |      nan | plan not found    |\n",
      "| 42 | A                       | VELUMANI     |  4211300 | 917400042888 | AVM@velumAni.com              |             1 | 09Sep2021            |       33429251 |    18966560 |      nan | plan not found    |\n"
     ]
    }
   ],
   "source": [
    "df_copy['BIN'] = df_copy['BIN'].astype(str)\n",
    "plan_not_found_rejected_mask = ~df_copy['BIN'].isin(plan_id_mapping.keys())\n",
    "df_rejected_new = pd.DataFrame(columns=df_copy.columns.tolist() + ['rejected_reason'])\n",
    "df_rejected_new[df_copy.columns] = df_copy.loc[plan_not_found_rejected_mask]\n",
    "df_rejected_new['rejected_reason'] = 'plan not found'\n",
    "df_rejected = pd.concat([df_rejected, df_rejected_new], ignore_index=True)\n",
    "df_copy = df_copy.loc[~plan_not_found_rejected_mask]\n",
    "print(df_rejected.to_markdown())\n"
   ]
  },
  {
   "cell_type": "code",
   "execution_count": 1,
   "id": "cabcdef8-9f83-4a09-a3a8-2183e500f60c",
   "metadata": {},
   "outputs": [
    {
     "ename": "NameError",
     "evalue": "name 'df_copy' is not defined",
     "output_type": "error",
     "traceback": [
      "\u001b[1;31m---------------------------------------------------------------------------\u001b[0m",
      "\u001b[1;31mNameError\u001b[0m                                 Traceback (most recent call last)",
      "Cell \u001b[1;32mIn[1], line 1\u001b[0m\n\u001b[1;32m----> 1\u001b[0m df_copy \u001b[38;5;241m=\u001b[39m \u001b[43mdf_copy\u001b[49m\u001b[38;5;241m.\u001b[39mloc[\u001b[38;5;241m~\u001b[39mrejected_mask]\n\u001b[0;32m      2\u001b[0m df_axis\u001b[38;5;241m.\u001b[39mrename(columns\u001b[38;5;241m=\u001b[39m{\u001b[38;5;124m'\u001b[39m\u001b[38;5;124mEMAIL\u001b[39m\u001b[38;5;124m'\u001b[39m: \u001b[38;5;124m'\u001b[39m\u001b[38;5;124moriginal_email\u001b[39m\u001b[38;5;124m'\u001b[39m}, inplace\u001b[38;5;241m=\u001b[39m\u001b[38;5;28;01mTrue\u001b[39;00m)\n\u001b[0;32m      3\u001b[0m \u001b[38;5;28mprint\u001b[39m(df_axis\u001b[38;5;241m.\u001b[39mhead()\u001b[38;5;241m.\u001b[39mto_markdown())\n",
      "\u001b[1;31mNameError\u001b[0m: name 'df_copy' is not defined"
     ]
    }
   ],
   "source": [
    "df_axis = df.copy()\n",
    "df_axis.rename(columns={'FIRSTNAME': 'first_name', 'LASTNAME': 'last_name','EMAIL': 'original_email'}, inplace=True)\n",
    "df_axis['first_name'] = df_axis['first_name'].apply(lambda x: 'unidentified first name' if pd.isna(x) or x.lower() == 'unidentified first name' else x)\n",
    "df_axis['last_name'] = df_axis['last_name'].apply(lambda x: 'unidentified last name' if pd.isna(x) or x.lower() == 'unidentified last name' else x)\n",
    "\n",
    "print(df_axis.head().to_markdown())"
   ]
  },
  {
   "cell_type": "code",
   "execution_count": null,
   "id": "495d14cd-86aa-4673-b9aa-b915aa317655",
   "metadata": {},
   "outputs": [],
   "source": []
  },
  {
   "cell_type": "code",
   "execution_count": 5,
   "id": "89d13634-d0bc-4b74-a1a6-c7c6da616143",
   "metadata": {},
   "outputs": [
    {
     "name": "stdout",
     "output_type": "stream",
     "text": [
      "|    | FIRSTNAME    | LASTNAME                |      BIN | MOBILE         | EMAIL                      |   PRIMARYCARD | CARD_CREATION_DATE   |   ACCOUNTSERNO |   CARDSERNO |   RMNAME |\n",
      "|---:|:-------------|:------------------------|---------:|:---------------|:---------------------------|--------------:|:---------------------|---------------:|------------:|---------:|\n",
      "|  0 | unidentified | ANSH                    | 42113700 | (91)9398742700 | anshsinghvee@gmail.com     |             0 | 10Jul2023            |       27965111 |    37346654 |      nan |\n",
      "|  1 | unidentified | ANUSH                   | 42113700 | (91)9626999111 | aswin@herofashion.com      |             0 | 26Nov2021            |       29337588 |    20615046 |      nan |\n",
      "|  2 | unidentified | GOUTHAM                 | 42113700 | (91)9008839300 | samarath@prithvijewels.com |             0 | 12Jul2022            |       39259747 |    26753794 |      nan |\n",
      "|  3 | unidentified | LAKSHMI PRABHA SELVARAJ | 42113700 | (91)9003711551 | susilaselvaraj65@gmail.com |             0 | 05Oct2021            |       33683937 |    19547800 |      nan |\n",
      "|  4 | unidentified | SAHIL                   | 42113700 | (91)9320640646 | sahil@apeamysore.com       |             1 | 04Aug2023            |       50001409 |    38220164 |      nan |\n"
     ]
    }
   ],
   "source": [
    "df_copy['MOBILE'] = df_copy['MOBILE'].astype(str).apply(lambda x: f\"({x[:2]}){x[2:]}\" if x.startswith('91') else x)\n",
    "\n",
    "print(df_copy.head().to_markdown())"
   ]
  },
  {
   "cell_type": "code",
   "execution_count": 18,
   "id": "80d0221c-ad9a-4c95-92ea-e205dd79fa2c",
   "metadata": {},
   "outputs": [],
   "source": [
    "df_copy.to_csv('epn_cleaned.csv', index=False)"
   ]
  },
  {
   "cell_type": "markdown",
   "id": "b660c15a-2bc3-4a0b-a665-bed0db2f995f",
   "metadata": {},
   "source": [
    "## Axis changes\n",
    "* added **createpassword** column , formula for password :  first letter of firstname + last 4 digits of mobile + first letter of lastname + first 2 letters of email"
   ]
  },
  {
   "cell_type": "code",
   "execution_count": 6,
   "id": "d5f5106a-838c-4c54-929b-73eb9ca34892",
   "metadata": {},
   "outputs": [
    {
     "name": "stdout",
     "output_type": "stream",
     "text": [
      "|    | FIRSTNAME    | LASTNAME                |      BIN | MOBILE         | EMAIL                      |   PRIMARYCARD | CARD_CREATION_DATE   |   ACCOUNTSERNO |   CARDSERNO |   RMNAME | createpassword   |\n",
      "|---:|:-------------|:------------------------|---------:|:---------------|:---------------------------|--------------:|:---------------------|---------------:|------------:|---------:|:-----------------|\n",
      "|  0 | unidentified | ANSH                    | 42113700 | (91)9398742700 | anshsinghvee@gmail.com     |             0 | 10Jul2023            |       27965111 |    37346654 |      nan | u2700Aan         |\n",
      "|  1 | unidentified | ANUSH                   | 42113700 | (91)9626999111 | aswin@herofashion.com      |             0 | 26Nov2021            |       29337588 |    20615046 |      nan | u9111Aas         |\n",
      "|  2 | unidentified | GOUTHAM                 | 42113700 | (91)9008839300 | samarath@prithvijewels.com |             0 | 12Jul2022            |       39259747 |    26753794 |      nan | u9300Gsa         |\n",
      "|  3 | unidentified | LAKSHMI PRABHA SELVARAJ | 42113700 | (91)9003711551 | susilaselvaraj65@gmail.com |             0 | 05Oct2021            |       33683937 |    19547800 |      nan | u1551Lsu         |\n",
      "|  4 | unidentified | SAHIL                   | 42113700 | (91)9320640646 | sahil@apeamysore.com       |             1 | 04Aug2023            |       50001409 |    38220164 |      nan | u0646Ssa         |\n"
     ]
    }
   ],
   "source": [
    "df_copy['createpassword'] = df_copy['FIRSTNAME'].str[0] + df_copy['MOBILE'].str[-4:] + df_copy['LASTNAME'].str[0] + df_copy['EMAIL'].str[:2]\n",
    "print(df_copy.head().to_markdown())"
   ]
  },
  {
   "cell_type": "code",
   "execution_count": 6,
   "id": "658ac4fc-4f8c-47bc-b780-922c1d1a7a5d",
   "metadata": {
    "scrolled": true
   },
   "outputs": [
    {
     "name": "stdout",
     "output_type": "stream",
     "text": [
      "|    | Plan ID   |       Bin | Plan                                                    |\n",
      "|---:|:----------|----------:|:--------------------------------------------------------|\n",
      "|  0 | Plan001   |  41114600 | Axis Bank Signature Credit Card                         |\n",
      "|  1 | Plan002   |  41114601 | Axis Bank Signature Card                                |\n",
      "|  2 | Plan003   |  41114602 | Axis Bank Signature Card With Lifestyle Benefit         |\n",
      "|  3 | Plan004   |  41114603 | Axis Bank Signature Card With Travel Benefit            |\n",
      "|  4 | Plan005   |  41114604 | Axis Bank Advantage Credit Card                         |\n",
      "|  5 | Plan006   |  41114606 | Axis Bank Select Credit Card                            |\n",
      "|  6 | Plan007   |  42113700 | Burgundy Private Credit Card                            |\n",
      "|  7 | Plan008   |  42113701 | Burgundy Private NRI Credit Card                        |\n",
      "|  8 | Plan009   |  43083200 | Axis Bank Vistara Platinum Credit Card                  |\n",
      "|  9 | Plan010   |  43083300 | Axis Bank Vistara Signature Credit Card                 |\n",
      "| 10 | Plan011   |  43083400 | Axis Bank Vistara Infinite Credit Card                  |\n",
      "| 11 | Plan012   |  43656000 | Axis Bank Infinite Card                                 |\n",
      "| 12 | Plan013   |  43656001 | Axis Bank Reserve Credit Card                           |\n",
      "| 13 | Plan014   |  52962900 | Axis Bank Magnus Credit Card                            |\n",
      "| 14 | Plan014   |  45146000 | Axis Bank Magnus Credit Card                            |\n",
      "| 15 | Plan015   |  55934000 | Axis Bank Miles And More World Select Credit Card       |\n",
      "| 16 | Plan016   |  55934001 | Axis Bank Miles And More World Select Credit Card (Nfc) |\n",
      "| 17 | Plan017   |  55934100 | Axis Bank Miles And More World Credit Card              |\n",
      "| 18 | Plan018   |  55934101 | Axis Bank Miles And More World Credit Card (Nfc)        |\n",
      "| 19 | Plan019   |  55934200 | Axis Bank Privilege Credit Card                         |\n",
      "| 20 | Plan020   |    410038 | Axis Bank Atlas                                         |\n",
      "| 21 | Plan021   |  42322600 | Axis Bank Rewards Credit Card                           |\n",
      "| 22 | Plan021   |  53186100 | Axis Bank Rewards Credit Card                           |\n",
      "| 23 | Plan022   |  40336200 | Axis Bank Prestige Credit Card                          |\n",
      "| 24 | Plan024   |  42939100 | Indian Oil Axis Bank Premium Credit Card                |\n",
      "| 25 | Plan024   |    534322 | Indian Oil Axis Bank Premium Credit Card                |\n",
      "| 26 | Plan025   |  43862800 | Citi Rewards Credit Card                                |\n",
      "| 27 | Plan026   | 52911707  | Citi Rewards Credit Card                                |\n",
      "| 28 | Plan027   | 55213701  | Citi Rewards Credit Card                                |\n",
      "| 29 | Plan028   |  55463700 | IndianOil Citi Credit Card                              |\n"
     ]
    },
    {
     "ename": "AttributeError",
     "evalue": "'DataFrame' object has no attribute 'dict'",
     "output_type": "error",
     "traceback": [
      "\u001b[1;31m---------------------------------------------------------------------------\u001b[0m",
      "\u001b[1;31mAttributeError\u001b[0m                            Traceback (most recent call last)",
      "\u001b[1;32m~\\AppData\\Local\\Temp\\ipykernel_1688\\2201833693.py\u001b[0m in \u001b[0;36m?\u001b[1;34m()\u001b[0m\n\u001b[0;32m      1\u001b[0m \u001b[0mbin_ranges\u001b[0m \u001b[1;33m=\u001b[0m \u001b[0mpd\u001b[0m\u001b[1;33m.\u001b[0m\u001b[0mread_csv\u001b[0m\u001b[1;33m(\u001b[0m\u001b[1;34m\"bin_ranges.csv\"\u001b[0m\u001b[1;33m)\u001b[0m\u001b[1;33m\u001b[0m\u001b[1;33m\u001b[0m\u001b[0m\n\u001b[0;32m      2\u001b[0m \u001b[0mprint\u001b[0m\u001b[1;33m(\u001b[0m\u001b[0mbin_ranges\u001b[0m\u001b[1;33m.\u001b[0m\u001b[0mhead\u001b[0m\u001b[1;33m(\u001b[0m\u001b[1;36m30\u001b[0m\u001b[1;33m)\u001b[0m\u001b[1;33m.\u001b[0m\u001b[0mto_markdown\u001b[0m\u001b[1;33m(\u001b[0m\u001b[1;33m)\u001b[0m\u001b[1;33m)\u001b[0m\u001b[1;33m\u001b[0m\u001b[1;33m\u001b[0m\u001b[0m\n\u001b[1;32m----> 3\u001b[1;33m \u001b[0mprint\u001b[0m\u001b[1;33m(\u001b[0m\u001b[0mbin_ranges\u001b[0m\u001b[1;33m.\u001b[0m\u001b[0mdict\u001b[0m\u001b[1;33m(\u001b[0m\u001b[1;33m)\u001b[0m\u001b[1;33m)\u001b[0m\u001b[1;33m\u001b[0m\u001b[1;33m\u001b[0m\u001b[0m\n\u001b[0m",
      "\u001b[1;32mC:\\Python311\\Lib\\site-packages\\pandas\\core\\generic.py\u001b[0m in \u001b[0;36m?\u001b[1;34m(self, name)\u001b[0m\n\u001b[0;32m   6200\u001b[0m             \u001b[1;32mand\u001b[0m \u001b[0mname\u001b[0m \u001b[1;32mnot\u001b[0m \u001b[1;32min\u001b[0m \u001b[0mself\u001b[0m\u001b[1;33m.\u001b[0m\u001b[0m_accessors\u001b[0m\u001b[1;33m\u001b[0m\u001b[1;33m\u001b[0m\u001b[0m\n\u001b[0;32m   6201\u001b[0m             \u001b[1;32mand\u001b[0m \u001b[0mself\u001b[0m\u001b[1;33m.\u001b[0m\u001b[0m_info_axis\u001b[0m\u001b[1;33m.\u001b[0m\u001b[0m_can_hold_identifiers_and_holds_name\u001b[0m\u001b[1;33m(\u001b[0m\u001b[0mname\u001b[0m\u001b[1;33m)\u001b[0m\u001b[1;33m\u001b[0m\u001b[1;33m\u001b[0m\u001b[0m\n\u001b[0;32m   6202\u001b[0m         ):\n\u001b[0;32m   6203\u001b[0m             \u001b[1;32mreturn\u001b[0m \u001b[0mself\u001b[0m\u001b[1;33m[\u001b[0m\u001b[0mname\u001b[0m\u001b[1;33m]\u001b[0m\u001b[1;33m\u001b[0m\u001b[1;33m\u001b[0m\u001b[0m\n\u001b[1;32m-> 6204\u001b[1;33m         \u001b[1;32mreturn\u001b[0m \u001b[0mobject\u001b[0m\u001b[1;33m.\u001b[0m\u001b[0m__getattribute__\u001b[0m\u001b[1;33m(\u001b[0m\u001b[0mself\u001b[0m\u001b[1;33m,\u001b[0m \u001b[0mname\u001b[0m\u001b[1;33m)\u001b[0m\u001b[1;33m\u001b[0m\u001b[1;33m\u001b[0m\u001b[0m\n\u001b[0m",
      "\u001b[1;31mAttributeError\u001b[0m: 'DataFrame' object has no attribute 'dict'"
     ]
    }
   ],
   "source": [
    "bin_ranges = pd.read_csv(\"bin_ranges.csv\")\n",
    "print(bin_ranges.head(30).to_markdown())\n"
   ]
  },
  {
   "cell_type": "code",
   "execution_count": null,
   "id": "2f0bad36-2ff3-49ad-a154-2cbe817a8159",
   "metadata": {},
   "outputs": [],
   "source": [
    "df_copy.to_csv('axis_cleaned.csv', index=False)"
   ]
  },
  {
   "cell_type": "code",
   "execution_count": null,
   "id": "8ead87bb-37cc-40b4-ab39-bc5f852b53e6",
   "metadata": {},
   "outputs": [],
   "source": [
    "# nouser@eamil.com\n",
    "#"
   ]
  }
 ],
 "metadata": {
  "kernelspec": {
   "display_name": "Python 3 (ipykernel)",
   "language": "python",
   "name": "python3"
  },
  "language_info": {
   "codemirror_mode": {
    "name": "ipython",
    "version": 3
   },
   "file_extension": ".py",
   "mimetype": "text/x-python",
   "name": "python",
   "nbconvert_exporter": "python",
   "pygments_lexer": "ipython3",
   "version": "3.11.5"
  }
 },
 "nbformat": 4,
 "nbformat_minor": 5
}
