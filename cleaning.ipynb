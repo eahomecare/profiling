{
 "cells": [
  {
   "cell_type": "markdown",
   "id": "f25c363b-5f63-49ad-8072-a0c15e6d34ac",
   "metadata": {},
   "source": [
    "## Basic Email/Phone/Name cleaning\n",
    "* if firstname/lastname are empty or null or Unidentified First NAme then set it to **undentified**\n",
    "* if emails contains .co or .c or COM or Com or com is appended without dot then all corrected with suffix **.com**\n",
    "* if phone number contains country code then put it into bracket eg. 919826483920 is now corrected to **(91)** 9826483920"
   ]
  },
  {
   "cell_type": "code",
   "execution_count": 2,
   "id": "eb57bcbd-377b-47b5-80b6-28d74bbb927b",
   "metadata": {
    "scrolled": true
   },
   "outputs": [
    {
     "name": "stdout",
     "output_type": "stream",
     "text": [
      "|    | FIRSTNAME               | LASTNAME                |      BIN |       MOBILE | EMAIL                      |   PRIMARYCARD | CARD_CREATION_DATE   |   ACCOUNTSERNO |   CARDSERNO |   RMNAME |\n",
      "|---:|:------------------------|:------------------------|---------:|-------------:|:---------------------------|--------------:|:---------------------|---------------:|------------:|---------:|\n",
      "|  0 | Unidentified First NAme | ANSH                    | 42113700 | 919398742700 | ANSHSINGHVEE@GMAIL.COM     |             0 | 10Jul2023            |       27965111 |    37346654 |      nan |\n",
      "|  1 | Unidentified First NAme | ANUSH                   | 42113700 | 919626999111 | Aswin@herofAshion.com      |             0 | 26Nov2021            |       29337588 |    20615046 |      nan |\n",
      "|  2 | Unidentified First NAme | GOUTHAM                 | 42113700 | 919008839300 | SAMARATH@PRITHVIJEWELS.COM |             0 | 12Jul2022            |       39259747 |    26753794 |      nan |\n",
      "|  3 | Unidentified First NAme | LAKSHMI PRABHA SELVARAJ | 42113700 | 919003711551 | susilAselvArAj65@gmAil.com |             0 | 05Oct2021            |       33683937 |    19547800 |      nan |\n",
      "|  4 | Unidentified First NAme | SAHIL                   | 42113700 | 919320640646 | sAhil@ApeAmysore.com       |             1 | 04Aug2023            |       50001409 |    38220164 |      nan |\n"
     ]
    }
   ],
   "source": [
    "import pandas as pd\n",
    "\n",
    "file_path = 'raw.csv'\n",
    "\n",
    "df = pd.read_csv(file_path)\n",
    "\n",
    "print(df.head().to_markdown())"
   ]
  },
  {
   "cell_type": "code",
   "execution_count": 3,
   "id": "c8e1c86a-7352-44b5-99a1-457206076a82",
   "metadata": {},
   "outputs": [
    {
     "name": "stdout",
     "output_type": "stream",
     "text": [
      "|    | FIRSTNAME    | LASTNAME                |      BIN |       MOBILE | EMAIL                      |   PRIMARYCARD | CARD_CREATION_DATE   |   ACCOUNTSERNO |   CARDSERNO |   RMNAME |\n",
      "|---:|:-------------|:------------------------|---------:|-------------:|:---------------------------|--------------:|:---------------------|---------------:|------------:|---------:|\n",
      "|  0 | unidentified | ANSH                    | 42113700 | 919398742700 | ANSHSINGHVEE@GMAIL.COM     |             0 | 10Jul2023            |       27965111 |    37346654 |      nan |\n",
      "|  1 | unidentified | ANUSH                   | 42113700 | 919626999111 | Aswin@herofAshion.com      |             0 | 26Nov2021            |       29337588 |    20615046 |      nan |\n",
      "|  2 | unidentified | GOUTHAM                 | 42113700 | 919008839300 | SAMARATH@PRITHVIJEWELS.COM |             0 | 12Jul2022            |       39259747 |    26753794 |      nan |\n",
      "|  3 | unidentified | LAKSHMI PRABHA SELVARAJ | 42113700 | 919003711551 | susilAselvArAj65@gmAil.com |             0 | 05Oct2021            |       33683937 |    19547800 |      nan |\n",
      "|  4 | unidentified | SAHIL                   | 42113700 | 919320640646 | sAhil@ApeAmysore.com       |             1 | 04Aug2023            |       50001409 |    38220164 |      nan |\n"
     ]
    }
   ],
   "source": [
    "df_copy = df.copy()\n",
    "df_copy['FIRSTNAME'] = df_copy['FIRSTNAME'].apply(lambda x: 'unidentified' if pd.isna(x) or x.lower() == 'unidentified first name' else x)\n",
    "df_copy['LASTNAME'] = df_copy['LASTNAME'].apply(lambda x: 'unidentified' if pd.isna(x) or x.lower() == 'unidentified last name' else x)\n",
    "\n",
    "print(df_copy.head().to_markdown())"
   ]
  },
  {
   "cell_type": "code",
   "execution_count": 4,
   "id": "d3fd4f50-b399-4294-898d-30e027f56816",
   "metadata": {},
   "outputs": [
    {
     "name": "stdout",
     "output_type": "stream",
     "text": [
      "|    | FIRSTNAME    | LASTNAME                |      BIN |       MOBILE | EMAIL                      |   PRIMARYCARD | CARD_CREATION_DATE   |   ACCOUNTSERNO |   CARDSERNO |   RMNAME |\n",
      "|---:|:-------------|:------------------------|---------:|-------------:|:---------------------------|--------------:|:---------------------|---------------:|------------:|---------:|\n",
      "|  0 | unidentified | ANSH                    | 42113700 | 919398742700 | anshsinghvee@gmail.com     |             0 | 10Jul2023            |       27965111 |    37346654 |      nan |\n",
      "|  1 | unidentified | ANUSH                   | 42113700 | 919626999111 | aswin@herofashion.com      |             0 | 26Nov2021            |       29337588 |    20615046 |      nan |\n",
      "|  2 | unidentified | GOUTHAM                 | 42113700 | 919008839300 | samarath@prithvijewels.com |             0 | 12Jul2022            |       39259747 |    26753794 |      nan |\n",
      "|  3 | unidentified | LAKSHMI PRABHA SELVARAJ | 42113700 | 919003711551 | susilaselvaraj65@gmail.com |             0 | 05Oct2021            |       33683937 |    19547800 |      nan |\n",
      "|  4 | unidentified | SAHIL                   | 42113700 | 919320640646 | sahil@apeamysore.com       |             1 | 04Aug2023            |       50001409 |    38220164 |      nan |\n"
     ]
    }
   ],
   "source": [
    "df_copy['EMAIL'] = df_copy['EMAIL'].str.replace(r'@c$', '@com', case=False)\n",
    "df_copy['EMAIL'] = df_copy['EMAIL'].str.replace(r'@co$', '@com', case=False)\n",
    "df_copy['EMAIL'] = df_copy['EMAIL'].str.replace(r'(?<!\\.)com$', '.com', case=False)\n",
    "df_copy['EMAIL'] = df_copy['EMAIL'].str.lower()\n",
    "\n",
    "print(df_copy.head().to_markdown())"
   ]
  },
  {
   "cell_type": "code",
   "execution_count": 5,
   "id": "89d13634-d0bc-4b74-a1a6-c7c6da616143",
   "metadata": {},
   "outputs": [
    {
     "name": "stdout",
     "output_type": "stream",
     "text": [
      "|    | FIRSTNAME    | LASTNAME                |      BIN | MOBILE         | EMAIL                      |   PRIMARYCARD | CARD_CREATION_DATE   |   ACCOUNTSERNO |   CARDSERNO |   RMNAME |\n",
      "|---:|:-------------|:------------------------|---------:|:---------------|:---------------------------|--------------:|:---------------------|---------------:|------------:|---------:|\n",
      "|  0 | unidentified | ANSH                    | 42113700 | (91)9398742700 | anshsinghvee@gmail.com     |             0 | 10Jul2023            |       27965111 |    37346654 |      nan |\n",
      "|  1 | unidentified | ANUSH                   | 42113700 | (91)9626999111 | aswin@herofashion.com      |             0 | 26Nov2021            |       29337588 |    20615046 |      nan |\n",
      "|  2 | unidentified | GOUTHAM                 | 42113700 | (91)9008839300 | samarath@prithvijewels.com |             0 | 12Jul2022            |       39259747 |    26753794 |      nan |\n",
      "|  3 | unidentified | LAKSHMI PRABHA SELVARAJ | 42113700 | (91)9003711551 | susilaselvaraj65@gmail.com |             0 | 05Oct2021            |       33683937 |    19547800 |      nan |\n",
      "|  4 | unidentified | SAHIL                   | 42113700 | (91)9320640646 | sahil@apeamysore.com       |             1 | 04Aug2023            |       50001409 |    38220164 |      nan |\n"
     ]
    }
   ],
   "source": [
    "df_copy['MOBILE'] = df_copy['MOBILE'].astype(str).apply(lambda x: f\"({x[:2]}){x[2:]}\" if x.startswith('91') else x)\n",
    "\n",
    "print(df_copy.head().to_markdown())"
   ]
  },
  {
   "cell_type": "code",
   "execution_count": 18,
   "id": "80d0221c-ad9a-4c95-92ea-e205dd79fa2c",
   "metadata": {},
   "outputs": [],
   "source": [
    "df_copy.to_csv('epn_cleaned.csv', index=False)"
   ]
  },
  {
   "cell_type": "markdown",
   "id": "b660c15a-2bc3-4a0b-a665-bed0db2f995f",
   "metadata": {},
   "source": [
    "## Axis changes\n",
    "* added **createpassword** column , formula for password :  first letter of firstname + last 4 digits of mobile + first letter of lastname + first 2 letters of email"
   ]
  },
  {
   "cell_type": "code",
   "execution_count": 6,
   "id": "d5f5106a-838c-4c54-929b-73eb9ca34892",
   "metadata": {},
   "outputs": [
    {
     "name": "stdout",
     "output_type": "stream",
     "text": [
      "|    | FIRSTNAME    | LASTNAME                |      BIN | MOBILE         | EMAIL                      |   PRIMARYCARD | CARD_CREATION_DATE   |   ACCOUNTSERNO |   CARDSERNO |   RMNAME | createpassword   |\n",
      "|---:|:-------------|:------------------------|---------:|:---------------|:---------------------------|--------------:|:---------------------|---------------:|------------:|---------:|:-----------------|\n",
      "|  0 | unidentified | ANSH                    | 42113700 | (91)9398742700 | anshsinghvee@gmail.com     |             0 | 10Jul2023            |       27965111 |    37346654 |      nan | u2700Aan         |\n",
      "|  1 | unidentified | ANUSH                   | 42113700 | (91)9626999111 | aswin@herofashion.com      |             0 | 26Nov2021            |       29337588 |    20615046 |      nan | u9111Aas         |\n",
      "|  2 | unidentified | GOUTHAM                 | 42113700 | (91)9008839300 | samarath@prithvijewels.com |             0 | 12Jul2022            |       39259747 |    26753794 |      nan | u9300Gsa         |\n",
      "|  3 | unidentified | LAKSHMI PRABHA SELVARAJ | 42113700 | (91)9003711551 | susilaselvaraj65@gmail.com |             0 | 05Oct2021            |       33683937 |    19547800 |      nan | u1551Lsu         |\n",
      "|  4 | unidentified | SAHIL                   | 42113700 | (91)9320640646 | sahil@apeamysore.com       |             1 | 04Aug2023            |       50001409 |    38220164 |      nan | u0646Ssa         |\n"
     ]
    }
   ],
   "source": [
    "df_copy['createpassword'] = df_copy['FIRSTNAME'].str[0] + df_copy['MOBILE'].str[-4:] + df_copy['LASTNAME'].str[0] + df_copy['EMAIL'].str[:2]\n",
    "print(df_copy.head().to_markdown())"
   ]
  },
  {
   "cell_type": "code",
   "execution_count": 10,
   "id": "658ac4fc-4f8c-47bc-b780-922c1d1a7a5d",
   "metadata": {},
   "outputs": [
    {
     "name": "stdout",
     "output_type": "stream",
     "text": [
      "|    | Plan ID   | Bin                 | Plan                                                    |\n",
      "|---:|:----------|:--------------------|:--------------------------------------------------------|\n",
      "|  0 | Plan001   | 41114600            | Axis Bank Signature Credit Card                         |\n",
      "|  1 | Plan002   | 41114601            | Axis Bank Signature Card                                |\n",
      "|  2 | Plan003   | 41114602            | Axis Bank Signature Card With Lifestyle Benefit         |\n",
      "|  3 | Plan004   | 41114603            | Axis Bank Signature Card With Travel Benefit            |\n",
      "|  4 | Plan005   | 41114604            | Axis Bank Advantage Credit Card                         |\n",
      "|  5 | Plan006   | 41114606            | Axis Bank Select Credit Card                            |\n",
      "|  6 | Plan007   | 42113700            | Burgundy Private Credit Card                            |\n",
      "|  7 | Plan008   | 42113701            | Burgundy Private NRI Credit Card                        |\n",
      "|  8 | Plan009   | 43083200            | Axis Bank Vistara Platinum Credit Card                  |\n",
      "|  9 | Plan010   | 43083300            | Axis Bank Vistara Signature Credit Card                 |\n",
      "| 10 | Plan011   | 43083400            | Axis Bank Vistara Infinite Credit Card                  |\n",
      "| 11 | Plan012   | 43656000            | Axis Bank Infinite Card                                 |\n",
      "| 12 | Plan013   | 43656001            | Axis Bank Reserve Credit Card                           |\n",
      "| 13 | Plan014   | 52962900 / 45146000 | Axis Bank Magnus Credit Card                            |\n",
      "| 14 | Plan015   | 55934000            | Axis Bank Miles And More World Select Credit Card       |\n",
      "| 15 | Plan016   | 55934001            | Axis Bank Miles And More World Select Credit Card (Nfc) |\n",
      "| 16 | Plan017   | 55934100            | Axis Bank Miles And More World Credit Card              |\n",
      "| 17 | Plan018   | 55934101            | Axis Bank Miles And More World Credit Card (Nfc)        |\n",
      "| 18 | Plan019   | 55934200            | Axis Bank Privilege Credit Card                         |\n",
      "| 19 | Plan020   | 410038              | Axis Bank Atlas                                         |\n",
      "| 20 | Plan021   | 42322600 / 53186100 | Axis Bank Rewards Credit Card                           |\n",
      "| 21 | Plan022   | 40336200            | Axis Bank Prestige Credit Card                          |\n",
      "| 22 | Plan024   | 42939100 / 534322   | Indian Oil Axis Bank Premium Credit Card                |\n",
      "| 23 | Plan025   | 43862800            | Citi Rewards Credit Card                                |\n",
      "| 24 | Plan026   | 52911707            | Citi Rewards Credit Card                                |\n",
      "| 25 | Plan027   | 55213701            | Citi Rewards Credit Card                                |\n",
      "| 26 | Plan028   | 55463700            | IndianOil Citi Credit Card                              |\n",
      "| 27 | Plan029   | 55463769            | IndianOil Citi Credit Card                              |\n",
      "| 28 | Plan030   | 55463771            | IndianOil Citi Credit Card                              |\n",
      "| 29 | Plan031   | 55463799            | IndianOil Citi Credit Card                              |\n"
     ]
    }
   ],
   "source": [
    "bin_ranges = pd.read_csv(\"bin_ranges.csv\")\n",
    "print(bin_ranges.head(30).to_markdown())"
   ]
  },
  {
   "cell_type": "code",
   "execution_count": null,
   "id": "2f0bad36-2ff3-49ad-a154-2cbe817a8159",
   "metadata": {},
   "outputs": [],
   "source": [
    "df_copy.to_csv('axis_cleaned.csv', index=False)"
   ]
  },
  {
   "cell_type": "code",
   "execution_count": null,
   "id": "8ead87bb-37cc-40b4-ab39-bc5f852b53e6",
   "metadata": {},
   "outputs": [],
   "source": [
    "# nouser@eamil.com\n",
    "#"
   ]
  }
 ],
 "metadata": {
  "kernelspec": {
   "display_name": "Python 3 (ipykernel)",
   "language": "python",
   "name": "python3"
  },
  "language_info": {
   "codemirror_mode": {
    "name": "ipython",
    "version": 3
   },
   "file_extension": ".py",
   "mimetype": "text/x-python",
   "name": "python",
   "nbconvert_exporter": "python",
   "pygments_lexer": "ipython3",
   "version": "3.10.12"
  }
 },
 "nbformat": 4,
 "nbformat_minor": 5
}
