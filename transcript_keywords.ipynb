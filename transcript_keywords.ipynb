{
 "cells": [
  {
   "cell_type": "code",
   "execution_count": 1,
   "id": "0bcbf9dd-224d-4708-876f-7b33f744d99a",
   "metadata": {},
   "outputs": [],
   "source": [
    "import whisper\n"
   ]
  },
  {
   "cell_type": "code",
   "execution_count": 2,
   "id": "c644eb33-0473-488b-86d6-36babddfa2b3",
   "metadata": {},
   "outputs": [
    {
     "name": "stderr",
     "output_type": "stream",
     "text": [
      "100%|███████████████████████████████████████| 139M/139M [00:32<00:00, 4.47MiB/s]\n"
     ]
    }
   ],
   "source": [
    "model = whisper.load_model(\"base\")\n"
   ]
  },
  {
   "cell_type": "code",
   "execution_count": 37,
   "id": "22da7670-0044-4f87-8a5d-26bdef2495ac",
   "metadata": {},
   "outputs": [
    {
     "name": "stderr",
     "output_type": "stream",
     "text": [
      "/home/sp/.local/lib/python3.10/site-packages/whisper/transcribe.py:115: UserWarning: FP16 is not supported on CPU; using FP32 instead\n",
      "  warnings.warn(\"FP16 is not supported on CPU; using FP32 instead\")\n"
     ]
    },
    {
     "name": "stdout",
     "output_type": "stream",
     "text": [
      " Hello, can you take the rest of the battery? Yeah, this is customer support. I get a lot of energy for you but I'm not working. Oh, I'm sorry to hear that. Could you tell me your order number please? How don't I have any? Yes, it's APK 0804949. Okay, just let me verify that these are the number match with the project you played. Okay, thank you for waiting Mr. Pandit. Now, could you tell me what the problem is? Well, I couldn't get to the outlet but it's not a ring on. Okay, sir. Just to allow this possibility may ask you if other devices are working properly in that outlet? Yes, they are. Well, could you remove the battery and then reconnect it once more time? And I appreciate you can connect it into another outlet. You bet for the ninth time the only is not the problem. Okay, sir. I totally understand your situation and I will feel the same but please calm down, stop yelling me. I'll let you think what I could do for you. Okay? Yeah, yeah, alright. We usually then are proud of it with an extra cable. Could you take a look inside the box and verify it with sent you another? Another cable. Oh, but they're not a cable in the box. Okay, let me see. Oh, so is there a mistake? According to my system, the extra cable was not included. Why have you basically been in this table? I'm so sorry, sir, but this is a specific item. It was at a discount at the moment you purchased it. As a result, we didn't do the extra cable so that we could apply the best price on the device. It's a thing of choice for you for stuff you won't need. Okay, but if you have a lot of trouble going down, don't go to your table. If you want something already one from us, we'll keep you within 24 hours. No, I don't need to do it, guys. Thanks anyway. We're doing your doctor. I will just cut your feedback, my superpixer. Yeah, yeah, alright, right now. How night, sir.\n"
     ]
    }
   ],
   "source": [
    "result = model.transcribe(\"transcript_sample.mp3\")\n",
    "print(result[\"text\"])"
   ]
  },
  {
   "cell_type": "code",
   "execution_count": 36,
   "id": "9d8336e9-3cb0-4a8f-a82b-7144cd957588",
   "metadata": {},
   "outputs": [
    {
     "name": "stdout",
     "output_type": "stream",
     "text": [
      "Keywords: battery, customer support, energy, order number, outlet, ring, devices, remove, reconnect, another outlet, problem, yelling, cable, box, mistake, system, extra cable, discount, best price, device, choice, trouble, feedback, superpixer, night.\n"
     ]
    },
    {
     "name": "stderr",
     "output_type": "stream",
     "text": [
      "/tmp/ipykernel_23926/4142115813.py:32: PydanticDeprecatedSince20: The `dict` method is deprecated; use `model_dump` instead. Deprecated in Pydantic V2.0 to be removed in V3.0. See Pydantic V2 Migration Guide at https://errors.pydantic.dev/2.5/migration/\n",
      "  return response.dict()['choices'][0]['message']['content']\n"
     ]
    }
   ],
   "source": [
    "import openai\n",
    "from openai import OpenAI\n",
    "import pandas as pd\n",
    "import os\n",
    "from dotenv import load_dotenv\n",
    "import ast\n",
    "\n",
    "load_dotenv()\n",
    "\n",
    "client = OpenAI(api_key=os.getenv(\"OPEN_AI_KEY\"))\n",
    "\n",
    "def get_keywords(input):\n",
    "    try:\n",
    "        response = client.chat.completions.create(\n",
    "        model=\"gpt-3.5-turbo\",\n",
    "        messages=[\n",
    "            {\n",
    "              \"role\": \"system\",\n",
    "              \"content\": \"\"\"You will be provided with a call recording transcript of customer & call center employee and your task is to extract a list of keywords\n",
    "              \"\"\"\n",
    "            },\n",
    "            {\n",
    "              \"role\": \"user\",\n",
    "              \"content\": input\n",
    "            }\n",
    "          ],\n",
    "          temperature=0.9,\n",
    "          max_tokens=64,\n",
    "          top_p=1\n",
    "        )\n",
    "\n",
    "        return response.dict()['choices'][0]['message']['content']\n",
    "\n",
    "    except Exception as e:\n",
    "        print(e)\n",
    "        return None\n",
    "\n",
    "\n",
    "\n",
    "print(get_keywords(result[\"text\"]))"
   ]
  },
  {
   "cell_type": "code",
   "execution_count": null,
   "id": "345e69cf-8aaf-4324-be3f-e9f627541a20",
   "metadata": {},
   "outputs": [],
   "source": []
  },
  {
   "cell_type": "code",
   "execution_count": null,
   "id": "8a752553-cb04-4fa4-8c43-fced94503cd4",
   "metadata": {},
   "outputs": [],
   "source": []
  }
 ],
 "metadata": {
  "kernelspec": {
   "display_name": "Python 3 (ipykernel)",
   "language": "python",
   "name": "python3"
  },
  "language_info": {
   "codemirror_mode": {
    "name": "ipython",
    "version": 3
   },
   "file_extension": ".py",
   "mimetype": "text/x-python",
   "name": "python",
   "nbconvert_exporter": "python",
   "pygments_lexer": "ipython3",
   "version": "3.10.12"
  }
 },
 "nbformat": 4,
 "nbformat_minor": 5
}
